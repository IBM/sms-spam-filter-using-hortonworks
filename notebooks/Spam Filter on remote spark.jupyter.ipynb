{
 "cells": [
  {
   "cell_type": "markdown",
   "metadata": {
    "deletable": true,
    "editable": true
   },
   "source": [
    "### Uploading the dataset to remote cluster"
   ]
  },
  {
   "cell_type": "code",
   "execution_count": 1,
   "metadata": {
    "collapsed": false,
    "deletable": true,
    "editable": true
   },
   "outputs": [
    {
     "name": "stdout",
     "output_type": "stream",
     "text": [
      "\r",
      "upload success\n"
     ]
    }
   ],
   "source": [
    "# Push the dataset to user HDFS directory in the cluster\n",
    "import os\n",
    "import dsx_core_utils\n",
    "dsx_core_utils.upload_hdfs_file(\n",
    "    source_path=os.environ['DSX_PROJECT_DIR']+'/datasets/SMSSpamCollection.csv', \n",
    "    target_path=\"/user/user1/SMSSpamCollection.csv\",\n",
    "    webhdfsurl=\"https://zinc1.fyre.ibm.com:8443/gateway/mjoudsx336-master-1/webhdfs/v1\")"
   ]
  },
  {
   "cell_type": "markdown",
   "metadata": {
    "deletable": true,
    "editable": true
   },
   "source": [
    "### Connecting to remote spark through DSX-HI"
   ]
  },
  {
   "cell_type": "code",
   "execution_count": 2,
   "metadata": {
    "collapsed": false,
    "deletable": true,
    "editable": true
   },
   "outputs": [
    {
     "name": "stdout",
     "output_type": "stream",
     "text": [
      "success configuring sparkmagic livy.\n"
     ]
    }
   ],
   "source": [
    "%load_ext sparkmagic.magics\n",
    "from dsx_core_utils import proxy_util,dsxhi_util\n",
    "proxy_util.configure_proxy_livy()"
   ]
  },
  {
   "cell_type": "code",
   "execution_count": 3,
   "metadata": {
    "collapsed": false
   },
   "outputs": [
    {
     "name": "stdout",
     "output_type": "stream",
     "text": [
      "['https://becks1.fyre.ibm.com:8443/gateway/mjoudsx336-master-1/livy/v1', 'https://becks1.fyre.ibm.com:8443/gateway/mjoudsx336-master-1/livy2/v1', 'https://cdh513edge11.fyre.ibm.com:8443/gateway/mjoudsx336-master-1/livy/v1', 'https://cdh514edge1.fyre.ibm.com:8443/gateway/mjoudsx336-master-1/livy/v1', 'https://cdh515edge1.fyre.ibm.com:8443/gateway/mjoudsx336-master-1/livy/v1', 'https://cdh515edge1.fyre.ibm.com:8443/gateway/mjoudsx336-master-1/livy2/v1', 'https://centos74edge1.fyre.ibm.com:8443/gateway/mjoudsx336-master-1/livy/v1', 'https://centos74edge1.fyre.ibm.com:8443/gateway/mjoudsx336-master-1/livy2/v1', 'https://rated3.fyre.ibm.com:8443/gateway/mjoudsx336-master-1/livy2/v1', 'https://yccdh5.fyre.ibm.com:8443/gateway/mjoudsx336-master-1/livy/v1', 'https://yccdh5.fyre.ibm.com:8443/gateway/mjoudsx336-master-1/livy2/v1', 'https://ycedge1.fyre.ibm.com:8443/gateway/mjoudsx336-master-1/livy/v1', 'https://ycedge1.fyre.ibm.com:8443/gateway/mjoudsx336-master-1/livy2/v1', 'https://zinc1.fyre.ibm.com:8443/gateway/mjoudsx336-master-1/livy/v1', 'https://zinc1.fyre.ibm.com:8443/gateway/mjoudsx336-master-1/livy2/v1']\n"
     ]
    }
   ],
   "source": [
    "dsxhi_util.list_livy_endpoints()"
   ]
  },
  {
   "cell_type": "code",
   "execution_count": 4,
   "metadata": {
    "collapsed": false,
    "deletable": true,
    "editable": true
   },
   "outputs": [
    {
     "data": {
      "application/vnd.jupyter.widget-view+json": {
       "model_id": "6c2d05c6c3f9489e9cd36463f8e0481f",
       "version_major": 2,
       "version_minor": 0
      },
      "text/plain": [
       "MagicsControllerWidget(children=(Tab(children=(ManageSessionWidget(children=(HTML(value=u'<br/>'), HTML(value=…"
      ]
     },
     "metadata": {},
     "output_type": "display_data"
    },
    {
     "name": "stdout",
     "output_type": "stream",
     "text": [
      "Added endpoint https://zinc1.fyre.ibm.com:8443/gateway/mjoudsx336-master-1/livy2/v1\n",
      "Starting Spark application\n"
     ]
    },
    {
     "data": {
      "text/html": [
       "<table>\n",
       "<tr><th>ID</th><th>YARN Application ID</th><th>Kind</th><th>State</th><th>Spark UI</th><th>Driver log</th><th>Current session?</th></tr><tr><td>912</td><td>application_1533478912530_0774</td><td>pyspark</td><td>idle</td><td><a target=\"_blank\" href=\"http://ales1.fyre.ibm.com:8088/proxy/application_1533478912530_0774/\">Link</a></td><td><a target=\"_blank\" href=\"http://ales3.fyre.ibm.com:8042/node/containerlogs/container_e32_1533478912530_0774_01_000001/user1\">Link</a></td><td>✔</td></tr></table>"
      ],
      "text/plain": [
       "<IPython.core.display.HTML object>"
      ]
     },
     "metadata": {},
     "output_type": "display_data"
    },
    {
     "name": "stdout",
     "output_type": "stream",
     "text": [
      "SparkSession available as 'spark'.\n"
     ]
    }
   ],
   "source": [
    "%manage_spark"
   ]
  },
  {
   "cell_type": "markdown",
   "metadata": {
    "deletable": true,
    "editable": true
   },
   "source": [
    "### Reading the dataset from remote cluster"
   ]
  },
  {
   "cell_type": "code",
   "execution_count": 5,
   "metadata": {
    "collapsed": false,
    "deletable": true,
    "editable": true
   },
   "outputs": [
    {
     "name": "stdout",
     "output_type": "stream",
     "text": [
      "hdfs:///user/user1/SMSSpamCollection.csv MapPartitionsRDD[1] at textFile at NativeMethodAccessorImpl.java:0"
     ]
    }
   ],
   "source": [
    "%%spark\n",
    "smsData = sc.textFile(\"hdfs:///user/user1/SMSSpamCollection.csv\")\n",
    "smsData.cache()"
   ]
  },
  {
   "cell_type": "markdown",
   "metadata": {
    "deletable": true,
    "editable": true
   },
   "source": [
    "### Creating a data pipeline"
   ]
  },
  {
   "cell_type": "code",
   "execution_count": 6,
   "metadata": {
    "collapsed": false,
    "deletable": true,
    "editable": true
   },
   "outputs": [],
   "source": [
    "%%spark\n",
    "from pyspark.ml import Pipeline\n",
    "from pyspark.ml.feature import HashingTF, IDF    \n",
    "from pyspark.ml.feature import Tokenizer\n",
    "from pyspark.ml.classification import LogisticRegression\n",
    "    \n",
    "tokenizer = Tokenizer(inputCol=\"message\",outputCol=\"words\")\n",
    "hashingTF = HashingTF(inputCol = tokenizer.getOutputCol(),outputCol=\"tempfeatures\")\n",
    "idf = IDF(inputCol = hashingTF.getOutputCol(),outputCol=\"features\")\n",
    "lrClassifier = LogisticRegression()\n",
    "        \n",
    "pipeline = Pipeline(stages=[tokenizer,hashingTF,idf,lrClassifier])"
   ]
  },
  {
   "cell_type": "markdown",
   "metadata": {
    "deletable": true,
    "editable": true
   },
   "source": [
    "### Cleaning the Data"
   ]
  },
  {
   "cell_type": "code",
   "execution_count": 7,
   "metadata": {
    "collapsed": false,
    "deletable": true,
    "editable": true
   },
   "outputs": [
    {
     "name": "stdout",
     "output_type": "stream",
     "text": [
      "DataFrame[label: double, message: string]"
     ]
    }
   ],
   "source": [
    "%%spark\n",
    "# creating a labeled vector\n",
    "def TransformToVector(string):\n",
    "    attList = string.split(\",\")\n",
    "    smsType = 0.0 if attList[0] == \"ham\" else 1.0\n",
    "    return [smsType,attList[1]]\n",
    "        \n",
    "smsTransformed = smsData.map(TransformToVector)\n",
    "        \n",
    "# creating a data frame from labeled vector\n",
    "from pyspark.sql import SQLContext\n",
    "sqlContext = SQLContext(sc)\n",
    "smsDF = sqlContext.createDataFrame(smsTransformed,[\"label\",\"message\"])\n",
    "smsDF.cache()"
   ]
  },
  {
   "cell_type": "markdown",
   "metadata": {
    "deletable": true,
    "editable": true
   },
   "source": [
    "### Perform Machine learning"
   ]
  },
  {
   "cell_type": "code",
   "execution_count": 8,
   "metadata": {
    "collapsed": false,
    "deletable": true,
    "editable": true
   },
   "outputs": [
    {
     "name": "stdout",
     "output_type": "stream",
     "text": [
      "Model Accuracy: 92.47\n",
      "+-----+----------+-----+\n",
      "|label|prediction|count|\n",
      "+-----+----------+-----+\n",
      "|  1.0|       1.0|   39|\n",
      "|  0.0|       1.0|    1|\n",
      "|  1.0|       0.0|    6|\n",
      "|  0.0|       0.0|   47|\n",
      "+-----+----------+-----+"
     ]
    }
   ],
   "source": [
    "%%spark\n",
    "# split data frame into training and testing\n",
    "(trainingData,testData) = smsDF.randomSplit([0.9,0.1])\n",
    "        \n",
    "#Build a model with Pipeline\n",
    "lrModel = pipeline.fit(trainingData)\n",
    "        \n",
    "#Compute Predictions\n",
    "prediction = lrModel.transform(testData)\n",
    "            \n",
    "#Evaluate Accuracy\n",
    "from pyspark.ml.evaluation import MulticlassClassificationEvaluator\n",
    "evaluator = MulticlassClassificationEvaluator(predictionCol=\"prediction\", \\\n",
    "                                                      labelCol=\"label\", \\\n",
    "                                                      metricName = \"accuracy\")\n",
    "accuracy = evaluator.evaluate(prediction)\n",
    "print \"Model Accuracy: \" + str(round(accuracy*100,2))\n",
    "        \n",
    "# Draw a confusion matrix\n",
    "prediction.groupby(\"label\",\"prediction\").count().show()"
   ]
  }
 ],
 "metadata": {
  "kernelspec": {
   "display_name": "Python2.7 with DSX Spark 2.0.2",
   "language": "python",
   "name": "python2"
  },
  "language_info": {
   "codemirror_mode": {
    "name": "ipython",
    "version": 2
   },
   "file_extension": ".py",
   "mimetype": "text/x-python",
   "name": "python",
   "nbconvert_exporter": "python",
   "pygments_lexer": "ipython2",
   "version": "2.7.11"
  }
 },
 "nbformat": 4,
 "nbformat_minor": 2
}
