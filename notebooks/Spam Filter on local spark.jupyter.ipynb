{
 "cells": [
  {
   "cell_type": "markdown",
   "metadata": {
    "deletable": true,
    "editable": true
   },
   "source": [
    "### Reading the dataset from Spark local"
   ]
  },
  {
   "cell_type": "code",
   "execution_count": 1,
   "metadata": {
    "collapsed": false,
    "deletable": true,
    "editable": true
   },
   "outputs": [],
   "source": [
    "import os\n",
    "\n",
    "# Add asset from file system\n",
    "textData = sc.textFile(os.environ['DSX_PROJECT_DIR']+'/datasets/SMSSpamCollection.csv')"
   ]
  },
  {
   "cell_type": "markdown",
   "metadata": {
    "deletable": true,
    "editable": true
   },
   "source": [
    "### Creating a Spark data pipeline"
   ]
  },
  {
   "cell_type": "code",
   "execution_count": 2,
   "metadata": {
    "collapsed": false,
    "deletable": true,
    "editable": true
   },
   "outputs": [],
   "source": [
    "from pyspark.ml import Pipeline\n",
    "from pyspark.ml.feature import HashingTF, IDF    \n",
    "from pyspark.ml.feature import Tokenizer\n",
    "from pyspark.ml.classification import LogisticRegression\n",
    "    \n",
    "tokenizer = Tokenizer(inputCol=\"message\",outputCol=\"words\")\n",
    "hashingTF = HashingTF(inputCol = tokenizer.getOutputCol(),outputCol=\"tempfeatures\")\n",
    "idf = IDF(inputCol = hashingTF.getOutputCol(),outputCol=\"features\")\n",
    "lrClassifier = LogisticRegression()\n",
    "        \n",
    "pipeline = Pipeline(stages=[tokenizer,hashingTF,idf,lrClassifier])"
   ]
  },
  {
   "cell_type": "markdown",
   "metadata": {
    "deletable": true,
    "editable": true
   },
   "source": [
    "### Cleaning the Data"
   ]
  },
  {
   "cell_type": "code",
   "execution_count": 3,
   "metadata": {
    "collapsed": false,
    "deletable": true,
    "editable": true
   },
   "outputs": [],
   "source": [
    "# creating a labeled vector\n",
    "def TransformToVector(string):\n",
    "    attList = string.split(\",\")\n",
    "    smsType = 0.0 if attList[0] == \"ham\" else 1.0\n",
    "    return [smsType,attList[1]]\n",
    "        \n",
    "textTransformed = textData.map(TransformToVector)\n",
    "        \n",
    "# creating a data frame from labeled vector\n",
    "from pyspark.sql import SQLContext\n",
    "sqlContext = SQLContext(sc)\n",
    "textDF = sqlContext.createDataFrame(textTransformed,[\"label\",\"message\"])\n"
   ]
  },
  {
   "cell_type": "markdown",
   "metadata": {
    "deletable": true,
    "editable": true
   },
   "source": [
    "### Build your LR Model using SparkML"
   ]
  },
  {
   "cell_type": "code",
   "execution_count": 4,
   "metadata": {
    "collapsed": false,
    "deletable": true,
    "editable": true
   },
   "outputs": [
    {
     "name": "stdout",
     "output_type": "stream",
     "text": [
      "Model Accuracy: 87.64\n",
      "+-----+----------+-----+\n",
      "|label|prediction|count|\n",
      "+-----+----------+-----+\n",
      "|  1.0|       1.0|   36|\n",
      "|  0.0|       1.0|    3|\n",
      "|  1.0|       0.0|    8|\n",
      "|  0.0|       0.0|   42|\n",
      "+-----+----------+-----+\n",
      "\n"
     ]
    }
   ],
   "source": [
    "# split data frame into training and testing\n",
    "(trainingData,testData) = textDF.randomSplit([0.9,0.1])\n",
    "        \n",
    "#Build a model with Pipeline\n",
    "lrModel = pipeline.fit(trainingData)\n",
    "        \n",
    "#Compute Predictions\n",
    "prediction = lrModel.transform(testData)\n",
    "            \n",
    "#Evaluate Accuracy\n",
    "from pyspark.ml.evaluation import MulticlassClassificationEvaluator\n",
    "evaluator = MulticlassClassificationEvaluator(predictionCol=\"prediction\", \\\n",
    "                                                      labelCol=\"label\", \\\n",
    "                                                      metricName = \"accuracy\")\n",
    "accuracy = evaluator.evaluate(prediction)\n",
    "print \"Model Accuracy: \" + str(round(accuracy*100,2))\n",
    "        \n",
    "# Draw a confusion matrix\n",
    "prediction.groupby(\"label\",\"prediction\").count().show()"
   ]
  }
 ],
 "metadata": {
  "kernelspec": {
   "display_name": "Python2.7 with DSX Spark 2.0.2",
   "language": "python",
   "name": "python2"
  },
  "language_info": {
   "codemirror_mode": {
    "name": "ipython",
    "version": 2
   },
   "file_extension": ".py",
   "mimetype": "text/x-python",
   "name": "python",
   "nbconvert_exporter": "python",
   "pygments_lexer": "ipython2",
   "version": "2.7.11"
  }
 },
 "nbformat": 4,
 "nbformat_minor": 2
}
