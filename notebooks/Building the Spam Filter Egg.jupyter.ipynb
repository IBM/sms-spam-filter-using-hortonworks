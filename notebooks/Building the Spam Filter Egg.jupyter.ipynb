{
 "cells": [
  {
   "cell_type": "markdown",
   "metadata": {
    "deletable": true,
    "editable": true
   },
   "source": [
    "### Get current directory"
   ]
  },
  {
   "cell_type": "code",
   "execution_count": 1,
   "metadata": {
    "collapsed": false,
    "deletable": true,
    "editable": true
   },
   "outputs": [
    {
     "data": {
      "text/plain": [
       "'/user-home/1001/DSX_Projects/sms-spam-filter-using-hortonworks/jupyter'"
      ]
     },
     "execution_count": 1,
     "metadata": {},
     "output_type": "execute_result"
    }
   ],
   "source": [
    "import os\n",
    "os.getcwd()"
   ]
  },
  {
   "cell_type": "markdown",
   "metadata": {
    "deletable": true,
    "editable": true
   },
   "source": [
    "### Set the directory to main project folder"
   ]
  },
  {
   "cell_type": "code",
   "execution_count": 2,
   "metadata": {
    "collapsed": false,
    "deletable": true,
    "editable": true
   },
   "outputs": [],
   "source": [
    "os.chdir('/user-home/1001/DSX_Projects/sms-spam-filter-using-hortonworks/')"
   ]
  },
  {
   "cell_type": "markdown",
   "metadata": {
    "deletable": true,
    "editable": true
   },
   "source": [
    "### Create the Spam Filter package folder"
   ]
  },
  {
   "cell_type": "code",
   "execution_count": 3,
   "metadata": {
    "collapsed": false,
    "deletable": true,
    "editable": true
   },
   "outputs": [],
   "source": [
    "! mkdir SpamFilter\n",
    "! mkdir SpamFilter/SpamFilter"
   ]
  },
  {
   "cell_type": "markdown",
   "metadata": {
    "deletable": true,
    "editable": true
   },
   "source": [
    "### Copying the scripts created to the package folder"
   ]
  },
  {
   "cell_type": "code",
   "execution_count": 5,
   "metadata": {
    "collapsed": false,
    "deletable": true,
    "editable": true
   },
   "outputs": [],
   "source": [
    "! cp scripts/setup.py SpamFilter/\n",
    "! cp scripts/__init__.py SpamFilter/SpamFilter/\n",
    "! cp scripts/DataPipeline.py SpamFilter/SpamFilter/\n",
    "! cp scripts/LRModel.py SpamFilter/SpamFilter/"
   ]
  },
  {
   "cell_type": "markdown",
   "metadata": {
    "deletable": true,
    "editable": true
   },
   "source": [
    "### Building the Spam Filter egg"
   ]
  },
  {
   "cell_type": "code",
   "execution_count": 6,
   "metadata": {
    "collapsed": false,
    "deletable": true,
    "editable": true
   },
   "outputs": [
    {
     "name": "stdout",
     "output_type": "stream",
     "text": [
      "running bdist_egg\n",
      "running egg_info\n",
      "creating SpamFilter.egg-info\n",
      "writing SpamFilter.egg-info/PKG-INFO\n",
      "writing top-level names to SpamFilter.egg-info/top_level.txt\n",
      "writing dependency_links to SpamFilter.egg-info/dependency_links.txt\n",
      "writing manifest file 'SpamFilter.egg-info/SOURCES.txt'\n",
      "reading manifest file 'SpamFilter.egg-info/SOURCES.txt'\n",
      "writing manifest file 'SpamFilter.egg-info/SOURCES.txt'\n",
      "installing library code to build/bdist.linux-x86_64/egg\n",
      "running install_lib\n",
      "running build_py\n",
      "creating build\n",
      "creating build/lib\n",
      "creating build/lib/SpamFilter\n",
      "copying SpamFilter/__init__.py -> build/lib/SpamFilter\n",
      "copying SpamFilter/DataPipeline.py -> build/lib/SpamFilter\n",
      "copying SpamFilter/LRModel.py -> build/lib/SpamFilter\n",
      "creating build/bdist.linux-x86_64\n",
      "creating build/bdist.linux-x86_64/egg\n",
      "creating build/bdist.linux-x86_64/egg/SpamFilter\n",
      "copying build/lib/SpamFilter/__init__.py -> build/bdist.linux-x86_64/egg/SpamFilter\n",
      "copying build/lib/SpamFilter/DataPipeline.py -> build/bdist.linux-x86_64/egg/SpamFilter\n",
      "copying build/lib/SpamFilter/LRModel.py -> build/bdist.linux-x86_64/egg/SpamFilter\n",
      "byte-compiling build/bdist.linux-x86_64/egg/SpamFilter/__init__.py to __init__.pyc\n",
      "byte-compiling build/bdist.linux-x86_64/egg/SpamFilter/DataPipeline.py to DataPipeline.pyc\n",
      "byte-compiling build/bdist.linux-x86_64/egg/SpamFilter/LRModel.py to LRModel.pyc\n",
      "creating build/bdist.linux-x86_64/egg/EGG-INFO\n",
      "copying SpamFilter.egg-info/PKG-INFO -> build/bdist.linux-x86_64/egg/EGG-INFO\n",
      "copying SpamFilter.egg-info/SOURCES.txt -> build/bdist.linux-x86_64/egg/EGG-INFO\n",
      "copying SpamFilter.egg-info/dependency_links.txt -> build/bdist.linux-x86_64/egg/EGG-INFO\n",
      "copying SpamFilter.egg-info/top_level.txt -> build/bdist.linux-x86_64/egg/EGG-INFO\n",
      "zip_safe flag not set; analyzing archive contents...\n",
      "creating dist\n",
      "creating 'dist/SpamFilter-1.0-py2.7.egg' and adding 'build/bdist.linux-x86_64/egg' to it\n",
      "removing 'build/bdist.linux-x86_64/egg' (and everything under it)\n"
     ]
    }
   ],
   "source": [
    "os.chdir('/user-home/1001/DSX_Projects/sms-spam-filter-using-hortonworks/SpamFilter')\n",
    "! python setup.py bdist_egg"
   ]
  },
  {
   "cell_type": "markdown",
   "metadata": {
    "deletable": true,
    "editable": true
   },
   "source": [
    "### Egg file is created and available in the dist folder of the package"
   ]
  },
  {
   "cell_type": "code",
   "execution_count": 7,
   "metadata": {
    "collapsed": false,
    "deletable": true,
    "editable": true
   },
   "outputs": [
    {
     "name": "stdout",
     "output_type": "stream",
     "text": [
      "SpamFilter-1.0-py2.7.egg\r\n"
     ]
    }
   ],
   "source": [
    "! ls dist"
   ]
  }
 ],
 "metadata": {
  "kernelspec": {
   "display_name": "Python2.7 with DSX Spark 2.0.2",
   "language": "python",
   "name": "python2"
  },
  "language_info": {
   "codemirror_mode": {
    "name": "ipython",
    "version": 2
   },
   "file_extension": ".py",
   "mimetype": "text/x-python",
   "name": "python",
   "nbconvert_exporter": "python",
   "pygments_lexer": "ipython2",
   "version": "2.7.11"
  }
 },
 "nbformat": 4,
 "nbformat_minor": 2
}
