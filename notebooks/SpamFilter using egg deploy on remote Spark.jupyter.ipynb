{
 "cells": [
  {
   "cell_type": "markdown",
   "metadata": {
    "deletable": true,
    "editable": true
   },
   "source": [
    "### Uploading the packaged egg file to remote hdfs"
   ]
  },
  {
   "cell_type": "code",
   "execution_count": 7,
   "metadata": {
    "collapsed": false,
    "deletable": true,
    "editable": true
   },
   "outputs": [
    {
     "name": "stdout",
     "output_type": "stream",
     "text": [
      "\r",
      "upload success\n"
     ]
    }
   ],
   "source": [
    "# Push the egg file to user HDFS directory in the cluster\n",
    "import os\n",
    "import dsx_core_utils\n",
    "dsx_core_utils.upload_hdfs_file(\n",
    "    source_path=os.environ['DSX_PROJECT_DIR']+'/SpamFilter/dist/SpamFilter-1.0-py2.7.egg', \n",
    "    target_path=\"/user/user1/SpamFilter-1.0-py2.7.egg\",\n",
    "    webhdfsurl=\"https://zinc1.fyre.ibm.com:8443/gateway/jalv-126-master-1/webhdfs/v1\")"
   ]
  },
  {
   "cell_type": "markdown",
   "metadata": {
    "deletable": true,
    "editable": true
   },
   "source": [
    "### Uploading the datatset to remote cluster"
   ]
  },
  {
   "cell_type": "code",
   "execution_count": 8,
   "metadata": {
    "collapsed": false,
    "deletable": true,
    "editable": true
   },
   "outputs": [
    {
     "name": "stdout",
     "output_type": "stream",
     "text": [
      "\r",
      "upload success\n"
     ]
    }
   ],
   "source": [
    "# Push the dataset to user HDFS directory in the cluster\n",
    "import dsx_core_utils\n",
    "dsx_core_utils.upload_hdfs_file(\n",
    "    source_path=os.environ['DSX_PROJECT_DIR']+'/datasets/SMSSpamCollection.csv', \n",
    "    target_path=\"/user/user1/SMSSpamCollection.csv\",\n",
    "    webhdfsurl=\"https://zinc1.fyre.ibm.com:8443/gateway/jalv-126-master-1/webhdfs/v1\")"
   ]
  },
  {
   "cell_type": "markdown",
   "metadata": {
    "deletable": true,
    "editable": true
   },
   "source": [
    "### Connecting to remote spark through DSX-HI"
   ]
  },
  {
   "cell_type": "code",
   "execution_count": 9,
   "metadata": {
    "collapsed": false,
    "deletable": true,
    "editable": true
   },
   "outputs": [
    {
     "name": "stdout",
     "output_type": "stream",
     "text": [
      "The sparkmagic.magics extension is already loaded. To reload it, use:\n",
      "  %reload_ext sparkmagic.magics\n",
      "success configuring sparkmagic livy.\n",
      "['https://miniedge-hd.fyre.ibm.com:8443/gateway/jalv-126-master-1/livy2/v1', 'https://zinc1.fyre.ibm.com:8443/gateway/jalv-126-master-1/livy/v1', 'https://zinc1.fyre.ibm.com:8443/gateway/jalv-126-master-1/livy2/v1']\n"
     ]
    }
   ],
   "source": [
    "%load_ext sparkmagic.magics\n",
    "from dsx_core_utils import proxy_util,dsxhi_util\n",
    "proxy_util.configure_proxy_livy()\n",
    "\n",
    "dsxhi_util.list_livy_endpoints()"
   ]
  },
  {
   "cell_type": "code",
   "execution_count": 4,
   "metadata": {
    "collapsed": false,
    "deletable": true,
    "editable": true
   },
   "outputs": [
    {
     "data": {
      "application/vnd.jupyter.widget-view+json": {
       "model_id": "cef890dff6b04157adaaaf8f0ba8c4ed"
      }
     },
     "metadata": {},
     "output_type": "display_data"
    },
    {
     "name": "stdout",
     "output_type": "stream",
     "text": [
      "Added endpoint https://zinc1.fyre.ibm.com:8443/gateway/jalv-126-master-1/livy2/v1\n",
      "Starting Spark application\n"
     ]
    },
    {
     "data": {
      "text/html": [
       "<table>\n",
       "<tr><th>ID</th><th>YARN Application ID</th><th>Kind</th><th>State</th><th>Spark UI</th><th>Driver log</th><th>Current session?</th></tr><tr><td>54</td><td>application_1525285700946_0046</td><td>pyspark</td><td>idle</td><td><a target=\"_blank\" href=\"http://ales1.fyre.ibm.com:8088/proxy/application_1525285700946_0046/\">Link</a></td><td><a target=\"_blank\" href=\"http://ales6.fyre.ibm.com:8042/node/containerlogs/container_e27_1525285700946_0046_01_000001/user1\">Link</a></td><td>✔</td></tr></table>"
      ],
      "text/plain": [
       "<IPython.core.display.HTML object>"
      ]
     },
     "metadata": {},
     "output_type": "display_data"
    },
    {
     "name": "stdout",
     "output_type": "stream",
     "text": [
      "SparkSession available as 'spark'.\n"
     ]
    }
   ],
   "source": [
    "%manage_spark"
   ]
  },
  {
   "cell_type": "markdown",
   "metadata": {
    "deletable": true,
    "editable": true
   },
   "source": [
    "### Distributing the egg file to remote spark cluster"
   ]
  },
  {
   "cell_type": "code",
   "execution_count": 5,
   "metadata": {
    "collapsed": false,
    "deletable": true,
    "editable": true,
    "scrolled": true
   },
   "outputs": [],
   "source": [
    "%%spark\n",
    "sc.addPyFile(\"hdfs:///user/user1/SpamFilter-1.0-py2.7.egg\")"
   ]
  },
  {
   "cell_type": "markdown",
   "metadata": {
    "collapsed": true,
    "deletable": true,
    "editable": true
   },
   "source": [
    "### Invoke the LRModel custom method on remote cluster"
   ]
  },
  {
   "cell_type": "code",
   "execution_count": 6,
   "metadata": {
    "collapsed": false,
    "deletable": true,
    "editable": true
   },
   "outputs": [
    {
     "name": "stdout",
     "output_type": "stream",
     "text": [
      "Model Accuracy: 91.51\n",
      "+-----+----------+-----+\n",
      "|label|prediction|count|\n",
      "+-----+----------+-----+\n",
      "|  1.0|       1.0|   41|\n",
      "|  0.0|       1.0|    5|\n",
      "|  1.0|       0.0|    4|\n",
      "|  0.0|       0.0|   56|\n",
      "+-----+----------+-----+"
     ]
    }
   ],
   "source": [
    "%%spark\n",
    "import SpamFilter\n",
    "import sys\n",
    "import os\n",
    "\n",
    "from pyspark import SparkContext\n",
    "from pyspark.sql import SparkSession\n",
    "\n",
    "# Import libraries from the deployed egg\n",
    "from SpamFilter import DataPipeline, LRModel\n",
    "\n",
    "# Building the Pipeline\n",
    "pipeline = DataPipeline().pipeline()\n",
    "\n",
    "# Read the file from HDFS\n",
    "filename = \"/user/user1/SMSSpamCollection.csv\"\n",
    "\n",
    "# Call the method\n",
    "LRModel().execute(sc,filename,pipeline)"
   ]
  }
 ],
 "metadata": {
  "kernelspec": {
   "display_name": "Python2.7 with DSX Spark 2.0.2",
   "language": "python",
   "name": "python2"
  },
  "language_info": {
   "codemirror_mode": {
    "name": "ipython",
    "version": 2
   },
   "file_extension": ".py",
   "mimetype": "text/x-python",
   "name": "python",
   "nbconvert_exporter": "python",
   "pygments_lexer": "ipython2",
   "version": "2.7.13"
  }
 },
 "nbformat": 4,
 "nbformat_minor": 2
}
